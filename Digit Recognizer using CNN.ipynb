{
 "cells": [
  {
   "cell_type": "code",
   "execution_count": 1,
   "metadata": {},
   "outputs": [],
   "source": [
    "#importing libraries\n",
    "\n",
    "import numpy as np\n",
    "import pandas as pd\n",
    "import random\n",
    "import matplotlib.pyplot as plt\n",
    "%matplotlib inline\n",
    "from keras.models import Sequential\n",
    "from keras.layers import Convolution2D\n",
    "from keras.layers import MaxPooling2D\n",
    "from keras.layers import Flatten\n",
    "from keras.layers import Dense\n",
    "from keras.layers import Dropout\n",
    "from keras.utils.np_utils import to_categorical\n",
    "from sklearn.model_selection import train_test_split\n",
    "from keras.preprocessing.image import ImageDataGenerator\n",
    "from keras.callbacks import ReduceLROnPlateau, CSVLogger"
   ]
  },
  {
   "cell_type": "code",
   "execution_count": 2,
   "metadata": {},
   "outputs": [],
   "source": [
    "train = pd.read_csv(\"train.csv\")\n",
    "test = pd.read_csv(\"test.csv\")"
   ]
  },
  {
   "cell_type": "code",
   "execution_count": null,
   "metadata": {},
   "outputs": [],
   "source": [
    "train"
   ]
  },
  {
   "cell_type": "code",
   "execution_count": 3,
   "metadata": {},
   "outputs": [],
   "source": [
    "y = train[\"label\"]\n",
    "X = train.drop([\"label\"], axis = 1)"
   ]
  },
  {
   "cell_type": "code",
   "execution_count": 10,
   "metadata": {},
   "outputs": [
    {
     "data": {
      "image/png": "[encoded data removed]",
      "text/plain": [
       "<Figure size 432x288 with 12 Axes>"
      ]
     },
     "metadata": {
      "needs_background": "light"
     },
     "output_type": "display_data"
    }
   ],
   "source": [
    "# PLOTTING THE DIGITS\n",
    "for i in range(0,3):\n",
    "    for j in range(0,4):\n",
    "        index = random.randrange(0, len(X))\n",
    "        plot = plt.subplot2grid((3, 4), (i, j))\n",
    "        plot.imshow(X[index].reshape(28,28))\n",
    "\n",
    "plt.tight_layout()\n",
    "plt.show()"
   ]
  },
  {
   "cell_type": "code",
   "execution_count": null,
   "metadata": {},
   "outputs": [],
   "source": [
    "X"
   ]
  },
  {
   "cell_type": "code",
   "execution_count": 5,
   "metadata": {},
   "outputs": [],
   "source": [
    "# reshaping\n",
    "X = X.values.reshape(-1,28,28,1)"
   ]
  },
  {
   "cell_type": "code",
   "execution_count": null,
   "metadata": {},
   "outputs": [],
   "source": [
    "X"
   ]
  },
  {
   "cell_type": "code",
   "execution_count": 6,
   "metadata": {},
   "outputs": [],
   "source": [
    "test = test.values.reshape(-1,28,28,1)"
   ]
  },
  {
   "cell_type": "code",
   "execution_count": null,
   "metadata": {},
   "outputs": [],
   "source": [
    "test"
   ]
  },
  {
   "cell_type": "code",
   "execution_count": 7,
   "metadata": {},
   "outputs": [],
   "source": [
    "# one hot encoding\n",
    "y = to_categorical(y, num_classes=10)"
   ]
  },
  {
   "cell_type": "code",
   "execution_count": 8,
   "metadata": {},
   "outputs": [],
   "source": [
    "# splitting training set and test set\n",
    "X_train,X_test,y_train,y_test = train_test_split(X,y,test_size = 0.1,shuffle = True)"
   ]
  },
  {
   "cell_type": "code",
   "execution_count": 9,
   "metadata": {},
   "outputs": [],
   "source": [
    "# building the CNN\n",
    "# initializing the CNN\n",
    "classifier = Sequential()\n",
    "# step-1 convolution\n",
    "classifier.add(Convolution2D(32,(3,3), input_shape = (28,28,1), activation = 'relu')) # input_shape = (image_height, image_width, channel)\n",
    "# adding another convolution layer\n",
    "classifier.add(Convolution2D(32,(3,3), activation = 'relu'))\n",
    "# step-2 MaxPooling\n",
    "classifier.add(MaxPooling2D(pool_size = (2,2)))\n",
    "classifier.add(Dropout(0.5))\n",
    "\n",
    "classifier.add(Convolution2D(64,(3,3), activation = 'relu'))\n",
    "classifier.add(Convolution2D(64,(3,3), activation = 'relu'))\n",
    "classifier.add(MaxPooling2D(pool_size = (2,2), strides = (2,2)))\n",
    "classifier.add(Dropout(0.5))\n",
    "# step-3 Flattening\n",
    "classifier.add(Flatten())\n",
    "# step-4 full connection\n",
    "# adding the hidden layer\n",
    "classifier.add(Dense(8192, activation = 'relu'))\n",
    "classifier.add(Dropout(0.5))\n",
    "# adding the hidden layer\n",
    "classifier.add(Dense(2048, activation = 'relu'))\n",
    "classifier.add(Dropout(0.5))\n",
    "# adding the output layer\n",
    "classifier.add(Dense(10, activation = 'sigmoid'))\n",
    "\n",
    "# CNN compilation\n",
    "classifier.compile(optimizer = 'adam', loss = 'categorical_crossentropy', metrics = ['accuracy'])"
   ]
  },
  {
   "cell_type": "code",
   "execution_count": 11,
   "metadata": {},
   "outputs": [
    {
     "name": "stdout",
     "output_type": "stream",
     "text": [
      "Epoch 1/10\n",
      "73/73 [==============================] - 73s 997ms/step - loss: 0.7266 - accuracy: 0.7580 - val_loss: nan - val_accuracy: 0.9102\n",
      "Epoch 2/10\n",
      "73/73 [==============================] - 70s 959ms/step - loss: 0.1746 - accuracy: 0.9459 - val_loss: nan - val_accuracy: 0.9112\n",
      "Epoch 3/10\n",
      "73/73 [==============================] - 70s 957ms/step - loss: 0.1234 - accuracy: 0.9618 - val_loss: nan - val_accuracy: 0.9600\n",
      "Epoch 4/10\n",
      "73/73 [==============================] - 70s 957ms/step - loss: 0.0991 - accuracy: 0.9688 - val_loss: nan - val_accuracy: 0.9581\n",
      "Epoch 5/10\n",
      "73/73 [==============================] - 70s 957ms/step - loss: 0.0867 - accuracy: 0.9728 - val_loss: nan - val_accuracy: 0.9705\n",
      "Epoch 6/10\n",
      "73/73 [==============================] - 70s 959ms/step - loss: 0.0771 - accuracy: 0.9763 - val_loss: nan - val_accuracy: 0.9781\n",
      "Epoch 7/10\n",
      "73/73 [==============================] - 71s 971ms/step - loss: 0.0697 - accuracy: 0.9785 - val_loss: nan - val_accuracy: 0.9748\n",
      "Epoch 8/10\n",
      "73/73 [==============================] - 69s 949ms/step - loss: 0.0652 - accuracy: 0.9811 - val_loss: nan - val_accuracy: 0.9690\n",
      "Epoch 9/10\n",
      "73/73 [==============================] - 70s 956ms/step - loss: 0.0637 - accuracy: 0.9807 - val_loss: nan - val_accuracy: 0.9848\n",
      "Epoch 10/10\n",
      "73/73 [==============================] - 70s 953ms/step - loss: 0.0529 - accuracy: 0.9841 - val_loss: nan - val_accuracy: 0.9817\n"
     ]
    }
   ],
   "source": [
    "# fitiing the CNN model\n",
    "\n",
    "train_datagen = ImageDataGenerator(rescale=1./255,\n",
    "                                    rotation_range=1,\n",
    "                                    zoom_range=0.1, \n",
    "                                    width_shift_range=0.05,\n",
    "                                    height_shift_range=0.05)\n",
    "train_datagen.fit(X_train)\n",
    "\n",
    "# Training\n",
    "validation_generator = classifier.fit(train_datagen.flow(X_train,\n",
    "                                                  y_train,\n",
    "                                                  batch_size=512), epochs=10,\n",
    "                                                  validation_data=(X_test, y_test),\n",
    "                                                  verbose=1,\n",
    "                                                  steps_per_epoch=X_train.shape[0] // 512,\n",
    "                                                  )"
   ]
  },
  {
   "cell_type": "code",
   "execution_count": 14,
   "metadata": {},
   "outputs": [
    {
     "name": "stdout",
     "output_type": "stream",
     "text": [
      "875/875 [==============================] - 22s 25ms/step\n"
     ]
    }
   ],
   "source": [
    "predictions = classifier.predict_classes(test, verbose=1)\n",
    "\n"
   ]
  },
  {
   "cell_type": "code",
   "execution_count": null,
   "metadata": {},
   "outputs": [],
   "source": [
    "submissions = pd.DataFrame({\"ImageId\":list(range(1,len(predictions)+1)),\n",
    "              \"Label\":predictions})\n",
    "\n",
    "submissions.to_csv(\"submission.csv\",\n",
    "                    index=False,\n",
    "                    header=True)\n"
   ]
  },
  {
   "cell_type": "code",
   "execution_count": null,
   "metadata": {},
   "outputs": [],
   "source": []
  },
  {
   "cell_type": "code",
   "execution_count": null,
   "metadata": {},
   "outputs": [],
   "source": []
  },
  {
   "cell_type": "code",
   "execution_count": null,
   "metadata": {},
   "outputs": [],
   "source": []
  }
 ],
 "metadata": {
  "kernelspec": {
   "display_name": "Python 3",
   "language": "python",
   "name": "python3"
  },
  "language_info": {
   "codemirror_mode": {
    "name": "ipython",
    "version": 3
   },
   "file_extension": ".py",
   "mimetype": "text/x-python",
   "name": "python",
   "nbconvert_exporter": "python",
   "pygments_lexer": "ipython3",
   "version": "3.7.3"
  }
 },
 "nbformat": 4,
 "nbformat_minor": 2
}
